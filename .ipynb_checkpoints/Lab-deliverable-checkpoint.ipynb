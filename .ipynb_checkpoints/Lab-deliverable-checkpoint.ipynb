{
 "cells": [
  {
   "cell_type": "code",
   "execution_count": 4,
   "metadata": {},
   "outputs": [
    {
     "name": "stdin",
     "output_type": "stream",
     "text": [
      "Enter your name:  brandon\n",
      "Enter an integer:  5\n"
     ]
    },
    {
     "name": "stdout",
     "output_type": "stream",
     "text": [
      "brandon has 5 fingers on their hands.\n"
     ]
    }
   ],
   "source": [
    "name = input('Enter your name: ')\n",
    "while name.isdigit():\n",
    "    name = input('Not a name. Try again.')\n",
    "integer = input('Enter an integer: ')\n",
    "while not integer.isdigit():\n",
    "    integer = input('Invalid input, try again. Enter an integer: ')\n",
    "print(f\"{name} has {integer} fingers on their hands.\")"
   ]
  },
  {
   "cell_type": "code",
   "execution_count": null,
   "metadata": {},
   "outputs": [],
   "source": []
  },
  {
   "cell_type": "code",
   "execution_count": null,
   "metadata": {},
   "outputs": [],
   "source": []
  }
 ],
 "metadata": {
  "kernelspec": {
   "display_name": "Python 3",
   "language": "python",
   "name": "python3"
  },
  "language_info": {
   "codemirror_mode": {
    "name": "ipython",
    "version": 3
   },
   "file_extension": ".py",
   "mimetype": "text/x-python",
   "name": "python",
   "nbconvert_exporter": "python",
   "pygments_lexer": "ipython3",
   "version": "3.8.3"
  }
 },
 "nbformat": 4,
 "nbformat_minor": 4
}
