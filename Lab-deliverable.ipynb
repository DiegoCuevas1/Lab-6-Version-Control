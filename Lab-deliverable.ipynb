{
 "cells": [
  {
   "cell_type": "code",
   "execution_count": null,
   "metadata": {},
   "outputs": [],
   "source": [
    "name = input('Enter your name: ')\n",
    "while name.isdigit():\n",
    "    name = input('Not a name. Try again.')\n",
    "integer = input('Enter an integer: ')\n",
    "while not integer.isdigit():\n",
    "    integer = input('Invalid input, try again. Enter an integer: ')\n",
    "print(f\"{name} has {integer} fingers on their hands.\")"
   ]
  }
 ],
 "metadata": {
  "kernelspec": {
   "display_name": "Python 3",
   "language": "python",
   "name": "python3"
  },
  "language_info": {
   "codemirror_mode": {
    "name": "ipython",
    "version": 3
   },
   "file_extension": ".py",
   "mimetype": "text/x-python",
   "name": "python",
   "nbconvert_exporter": "python",
   "pygments_lexer": "ipython3",
   "version": "3.8.2"
  }
 },
 "nbformat": 4,
 "nbformat_minor": 4
}
